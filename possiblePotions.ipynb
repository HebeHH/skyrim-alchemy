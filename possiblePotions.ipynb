{
 "cells": [
  {
   "cell_type": "code",
   "execution_count": 2,
   "metadata": {},
   "outputs": [],
   "source": [
    "import pandas as pd\n",
    "import numpy as np\n",
    "import json\n",
    "from pyvis.network import Network\n",
    "\n",
    "\n",
    "def flatten(l):\n",
    "    return [item for sublist in l for item in sublist]\n",
    "\n",
    "with open('data/ingredients.json') as f:\n",
    "    ingredients_json = json.load(f)\n",
    "\n",
    "with open('data/effects.json') as f:\n",
    "    effects_json = json.load(f)"
   ]
  },
  {
   "cell_type": "code",
   "execution_count": 3,
   "metadata": {},
   "outputs": [],
   "source": [
    "ingredients = [x['name'] for x in ingredients_json]\n",
    "ingredients_dict = {x['name'] : x for x in ingredients_json}"
   ]
  },
  {
   "cell_type": "code",
   "execution_count": 4,
   "metadata": {},
   "outputs": [],
   "source": [
    "all_effects_arr = np.array(list(effects_json.keys()))\n",
    "\n",
    "ingredients_effects = {}\n",
    "\n",
    "for ingredient in ingredients_json:\n",
    "    effects_arr = np.array(ingredient['effects'])\n",
    "    ingredients_effects[ingredient['name']] = list(np.isin(all_effects_arr, effects_arr))\n",
    "\n",
    "db = pd.DataFrame(ingredients_effects)\n",
    "db.index = all_effects_arr"
   ]
  },
  {
   "cell_type": "code",
   "execution_count": 5,
   "metadata": {},
   "outputs": [],
   "source": [
    "\n",
    "attribute_effects_color = {\n",
    "    'defense': '#2845d7', \n",
    "    'health': '#74e876', \n",
    "    'magicka': '#f882f1', \n",
    "    'other': '#a7abb0', \n",
    "    'skill': '#56C6FE', \n",
    "    'stamina': '#fce269'\n",
    "}\n",
    "type_effects_color = {\n",
    "    'help' : '#23772D',\n",
    "    'hurt' : '#950B22'\n",
    "}"
   ]
  },
  {
   "cell_type": "code",
   "execution_count": 6,
   "metadata": {},
   "outputs": [],
   "source": [
    "def create_network(network_ingredients, network_db, html_name, size_effect_by_value = False, size_ingredient_by_value = False, basic_ingredients = []):\n",
    "  font_color = \"white\" if size_effect_by_value else \"white\"\n",
    "  background_color = 'black' if size_effect_by_value else '#bee9dc7a'\n",
    "  \n",
    "  g = Network(height='850px', \n",
    "              font_color=font_color, \n",
    "              bgcolor=background_color,\n",
    "              neighborhood_highlight=False,\n",
    "              select_menu=True,\n",
    "              filter_menu=False,\n",
    "              layout=None\n",
    "            )\n",
    "  \n",
    "  \n",
    "  ingredient_node_shape = 'dot' if size_ingredient_by_value else 'ellipse'\n",
    "  \n",
    "  for x in network_ingredients:\n",
    "    g.add_node('Ingredient: ' + x,\n",
    "              label = '  ' + x + '  ',\n",
    "              color = {\n",
    "                  'border': '#f7ff92',\n",
    "                  'background': '#855600',\n",
    "                  'highlight': {\n",
    "                    'border': '#fff800',\n",
    "                    'background': '#454B53',\n",
    "                  }},\n",
    "              shape = ingredient_node_shape,\n",
    "              size= 10 + ingredients_dict[x]['potionValue']/2 if size_ingredient_by_value else 10,\n",
    "              basic = 1 if (basic_ingredients == [] or x in basic_ingredients) else 0,\n",
    "                category = 'ingredient'\n",
    "              )\n",
    "  \n",
    "  effect_node_shape = 'square' if size_effect_by_value else 'box'\n",
    "  effect_size = lambda e: 10 + effects_json[e]['value']/2 if size_effect_by_value else 10\n",
    "  for e in network_db.index:\n",
    "    g.add_node('Effect: '+e,\n",
    "                label = '\\n    '+e+'    \\n\\n',\n",
    "                color = {\n",
    "                  'border': attribute_effects_color[effects_json[e]['attribute']],\n",
    "                  'background': type_effects_color[effects_json[e]['type']],\n",
    "                  'highlight': {\n",
    "                    'border': type_effects_color[effects_json[e]['type']],\n",
    "                    'background': attribute_effects_color[effects_json[e]['attribute']],\n",
    "                  }},\n",
    "                shape = effect_node_shape,\n",
    "                borderWidthSelected = 6,\n",
    "                borderWidth = 3,\n",
    "                size = effect_size(e),\n",
    "                category = 'effect'\n",
    "                )\n",
    "    \n",
    "  edge_list = network_db.stack().loc[lambda x: x].index.tolist()\n",
    "  g.add_edges([('Effect: '+edge[0],'Ingredient: '+edge[1],4,) for edge in edge_list])\n",
    "\n",
    "  g.force_atlas_2based(\n",
    "      gravity= -300,\n",
    "      central_gravity = 0.01,\n",
    "      spring_length= 200,\n",
    "      spring_strength= 1,\n",
    "      damping= 1,\n",
    "      overlap= 0.9\n",
    "  )\n",
    "  g.show_buttons(filter_=[\"physics\"])\n",
    "  g.show(html_name, notebook=False)"
   ]
  },
  {
   "cell_type": "code",
   "execution_count": 7,
   "metadata": {},
   "outputs": [],
   "source": [
    "current_ingredients=[\n",
    "    \"Blue Mountain Flower\",\n",
    "    \"Bone Meal\",\n",
    "    \"Charred Skeever Hide\",\n",
    "    \"Chicken's Egg\",\n",
    "    \"Deathbell\",\n",
    "    \"Dragon's Tongue\",\n",
    "    \"Elves Ear\",\n",
    "    \"Fly Amanita\",\n",
    "    \"Frost Mirriam\",\n",
    "    \"Garlic\",\n",
    "    \"Glowing Mushroom\",\n",
    "    \"Lavender\",\n",
    "    \"Mora Tapinella\",\n",
    "    \"Mudcrab Chitin\",\n",
    "    \"Nightshade\",\n",
    "    \"Purple Mountain Flower\",\n",
    "    \"Red Mountain Flower\",\n",
    "    \"River Betty\",\n",
    "    \"Rock Warbler Egg\",\n",
    "    \"Salt Pile\",\n",
    "    \"Silverside Perch\",\n",
    "    \"Skeever Tail\",\n",
    "    \"Slaughterfish Egg\",\n",
    "    \"Slaughterfish Scales\",\n",
    "    \"Snowberries\",\n",
    "    \"Thistle Branch\",\n",
    "    \"Tundra Cotton\",\n",
    "    \"Wheat\"\n",
    " ]\n",
    "useful_db = db[current_ingredients][db[current_ingredients].sum(axis=1) >= 2]"
   ]
  },
  {
   "cell_type": "code",
   "execution_count": 8,
   "metadata": {},
   "outputs": [
    {
     "name": "stdout",
     "output_type": "stream",
     "text": [
      "HTMLGraphs/python_generated/my_ingredients.html\n",
      "HTMLGraphs/python_generated/all_ingredients.html\n",
      "HTMLGraphs/python_generated/my_ingredients_by_value.html\n",
      "HTMLGraphs/python_generated/all_ingredients_by_value.html\n"
     ]
    }
   ],
   "source": [
    "create_network(current_ingredients, useful_db, 'HTMLGraphs/python_generated/my_ingredients.html')\n",
    "create_network(ingredients, db, 'HTMLGraphs/python_generated/all_ingredients.html')\n",
    "\n",
    "create_network(current_ingredients, useful_db, 'HTMLGraphs/python_generated/my_ingredients_by_value.html', True, True)\n",
    "create_network(ingredients, db, 'HTMLGraphs/python_generated/all_ingredients_by_value.html', True, True)"
   ]
  },
  {
   "cell_type": "code",
   "execution_count": 9,
   "metadata": {},
   "outputs": [],
   "source": [
    "# ing_by_effect = db.apply(lambda row: row.index[row].tolist(), axis=1)\n",
    "# effect_by_ing = {i['name']: i['effects'] for i in ingredients_json}\n"
   ]
  }
 ],
 "metadata": {
  "kernelspec": {
   "display_name": "base",
   "language": "python",
   "name": "python3"
  },
  "language_info": {
   "codemirror_mode": {
    "name": "ipython",
    "version": 3
   },
   "file_extension": ".py",
   "mimetype": "text/x-python",
   "name": "python",
   "nbconvert_exporter": "python",
   "pygments_lexer": "ipython3",
   "version": "3.9.7"
  }
 },
 "nbformat": 4,
 "nbformat_minor": 2
}
